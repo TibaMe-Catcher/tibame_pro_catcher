{
 "cells": [
  {
   "cell_type": "markdown",
   "metadata": {},
   "source": [
    "# word2vec步驟分解\n",
    "\n",
    "1.載入需要的套件<br>\n",
    "2.指定辭典檔<br>\n",
    "3.載入文件<br>\n",
    "4.載入停止字檔<br>\n",
    "5.進行分詞<br>\n",
    "6.分詞結果存檔<br>\n",
    "7.載入word2vec套件<br>\n",
    "8.從檔案中取出句子<br>\n",
    "9.向量化並建立模型<br>\n",
    "10.儲存模型<br>\n",
    "11.查詢相似的詞語<br>\n"
   ]
  },
  {
   "cell_type": "code",
   "execution_count": 2,
   "metadata": {},
   "outputs": [],
   "source": [
    "#1.載入需要的套件\n",
    "import requests\n",
    "from lxml import etree\n",
    "from io import StringIO\n",
    "import jieba\n",
    "import pandas as pd\n",
    "import time\n",
    "from jieba import posseg as pseg\n",
    "import random"
   ]
  },
  {
   "cell_type": "code",
   "execution_count": 17,
   "metadata": {},
   "outputs": [
    {
     "name": "stderr",
     "output_type": "stream",
     "text": [
      "Building prefix dict from C:\\Users\\leavi\\Desktop\\catcher_nlp\\mydict\\dict.txt.big ...\n",
      "Loading model from cache C:\\Users\\leavi\\AppData\\Local\\Temp\\jieba.ue81af2ce4832b1549caa38b1b6fa9b38.cache\n",
      "Loading model cost 1.383 seconds.\n",
      "Prefix dict has been built successfully.\n"
     ]
    }
   ],
   "source": [
    "#2.指定辭典檔\n",
    "jieba.set_dictionary('./mydict/dict.txt.big')\n",
    "#加入自定義辭典\n",
    "jieba.load_userdict('./mydict/mydict.txt')"
   ]
  },
  {
   "cell_type": "code",
   "execution_count": 18,
   "metadata": {},
   "outputs": [],
   "source": [
    "#3.開檔\n",
    "fileAllLines = []\n",
    "#避免檔案過大造成記憶體不足使用 with open 及 read()控制讀取數量\n",
    "with open('./file/healthy_all.txt','r',encoding=\"utf-8\") as fileLine:\n",
    "    for line in iter(lambda: fileLine.read(1024), ''):\n",
    "        #print(line)\n",
    "        fileAllLines.append(line)\n",
    "        \n",
    "new_line = ' '.join(fileAllLines)\n",
    "#new_line"
   ]
  },
  {
   "cell_type": "code",
   "execution_count": 52,
   "metadata": {},
   "outputs": [],
   "source": [
    "#4.加入stop word\n",
    "with open(file='./mydict/stop_words.txt', mode='r', encoding='utf-8') as file:\n",
    "    stop_words = file.read().split('\\n')\n",
    "    \n",
    "stop_words.append('\\n')  ## 文章中有許多分行符號，這邊加入停用字中，可以把它拿掉\n",
    "stop_words.append('\\n\\n')\n",
    "#stop_words\n"
   ]
  },
  {
   "cell_type": "code",
   "execution_count": 20,
   "metadata": {},
   "outputs": [
    {
     "name": "stdout",
     "output_type": "stream",
     "text": [
      "--- spend 2588.9279396533966 seconds ---\n",
      "10436\n"
     ]
    }
   ],
   "source": [
    "#5.進行匯入停止字的分詞\n",
    "start_time = time.time()\n",
    "import jieba.posseg as pseg\n",
    "\n",
    "seg = []\n",
    "for i in range(len(fileAllLines)):\n",
    "    #cut_list = list( jieba.cut(fileAllLines[i], cut_all = False) )\n",
    "    #seg.append([' '.join([ item for item in cut_list if len(item) > 1 ])])\n",
    "    cut_result = list(pseg.cut(fileAllLines[i], use_paddle=False))\n",
    "    each_line_list = []\n",
    "    for w, p in cut_result:#標註詞性\n",
    "        #print(\"%s: %s\"%(w, p))\n",
    "        #if w not in stop_words and p in ['n', 'nr','ns','nt','nz','nl','ng', 't', 's','vn','v','vd','a','ad','an','d','r']:\n",
    "        #上面這行加入了以詞性作為過濾的條件\n",
    "        if w not in stop_words :\n",
    "                #print(\"%s: %s\"%(w, p))\n",
    "            each_line_list.append(w)\n",
    "        new_line = ' '.join(each_line_list)\n",
    "    #print(new_line)\n",
    "    seg.append(new_line)\n",
    "print(\"--- spend %s seconds ---\" % (time.time() - start_time))\n",
    "\n",
    "print(len(seg))"
   ]
  },
  {
   "cell_type": "code",
   "execution_count": 23,
   "metadata": {},
   "outputs": [],
   "source": [
    "#6.分詞結果存檔\n",
    "segSaveFile = 'segmentNormalDone.txt'\n",
    "with open(segSaveFile, 'wb') as saveFile:\n",
    "    for i in range(len(seg)):\n",
    "        #words = seg[i][0].encode('utf-8')\n",
    "        words = seg[i].encode('utf-8')\n",
    "        if len(words) > 0:\n",
    "            saveFile.write(words)\n",
    "            saveFile.write('\\n'.encode())"
   ]
  },
  {
   "cell_type": "code",
   "execution_count": 24,
   "metadata": {},
   "outputs": [],
   "source": [
    "#7.載入word2vec 函式庫\n",
    "from gensim.models import word2vec"
   ]
  },
  {
   "cell_type": "code",
   "execution_count": 25,
   "metadata": {},
   "outputs": [],
   "source": [
    "#8.一行一行的從檔案中取出句子：一行一個句子，句子中的字必須預先處理好並以空白隔開\n",
    "sentences = word2vec.LineSentence(\"segmentNormalDone.txt\")"
   ]
  },
  {
   "cell_type": "markdown",
   "metadata": {},
   "source": [
    "## word2vec 參數調整指南\n",
    "參考本篇:https://reurl.cc/odjeVl\n",
    "\n",
    "size=100：詞向量的維度大小，維度太小會無法有效表達詞與詞的關係，維度太大會使關係太稀疏而難以找出規則,Kaggle比賽詞向量維度常介於200-300之間\n",
    "\n",
    "iter=5：訓練的回數，訓練過少會使得詞關係過為鬆散，訓練過度又會使得詞關係過為極端\n",
    "\n",
    "sg=0：sg=0時以CBOW來訓練，sg=1時以Skip-gram來訓練。某些詞彙可能只出現在特定的主題當中，所以文本中可能有許多低頻詞，而在特性上，Skip-gram比CBOW通常對低頻詞有更好的訓練效果<br>\n",
    "CBOW和Skip-gram的比較:https://reurl.cc/1492vp \n",
    "\n",
    "window=5：CBOW下決定Word2Vec一次取多少詞來預測中間詞（Skip-gram的狀況是反過來的）\n",
    "\n",
    "workers=3：訓練用的線程數量（可以加快訓練速度）\n",
    "\n",
    "min_count=5：出現次數大於等於min_count的詞，才會納入Word2Vec的詞典中\n"
   ]
  },
  {
   "cell_type": "code",
   "execution_count": 26,
   "metadata": {},
   "outputs": [
    {
     "name": "stdout",
     "output_type": "stream",
     "text": [
      "--- spend 147.65637469291687 seconds ---\n"
     ]
    },
    {
     "data": {
      "text/plain": [
       "<gensim.models.word2vec.Word2Vec at 0x2063a3ab280>"
      ]
     },
     "execution_count": 26,
     "metadata": {},
     "output_type": "execute_result"
    }
   ],
   "source": [
    "#9.訓練模型\n",
    "#size: 向量維度 = 300\n",
    "#sg: 0(CBOW), 1(Skip-gram)\n",
    "start_time = time.time()\n",
    "model = word2vec.Word2Vec(sentences, size=300, sg=1, window=10, workers=3, min_count=2)\n",
    "print(\"--- spend %s seconds ---\" % (time.time() - start_time))\n",
    "\n",
    "model"
   ]
  },
  {
   "cell_type": "code",
   "execution_count": 27,
   "metadata": {},
   "outputs": [
    {
     "data": {
      "text/plain": [
       "2596601"
      ]
     },
     "execution_count": 27,
     "metadata": {},
     "output_type": "execute_result"
    }
   ],
   "source": [
    "#10.儲存訓練好的word2vec 模型\n",
    "model.save(\"word2vecNormal.model\")\n",
    "\n",
    "model.corpus_total_words\n"
   ]
  },
  {
   "cell_type": "code",
   "execution_count": 14,
   "metadata": {},
   "outputs": [
    {
     "name": "stderr",
     "output_type": "stream",
     "text": [
      "<ipython-input-14-0d78ea5d1082>:2: DeprecationWarning: Call to deprecated `similar_by_word` (Method will be removed in 4.0.0, use self.wv.similar_by_word() instead).\n",
      "  model.similar_by_word('每天')\n"
     ]
    },
    {
     "data": {
      "text/plain": [
       "[('天天', 0.5993406176567078),\n",
       " ('抽時間', 0.5872159004211426),\n",
       " ('混日子', 0.5863246917724609),\n",
       " ('搞壞', 0.5706547498703003),\n",
       " ('緊迫', 0.5639457702636719),\n",
       " ('第一件', 0.5604555010795593),\n",
       " ('無所事事', 0.5559400320053101),\n",
       " ('太爽了', 0.5554307699203491),\n",
       " ('每天晚上', 0.5546926259994507),\n",
       " ('治裝', 0.5546207427978516)]"
      ]
     },
     "execution_count": 14,
     "metadata": {},
     "output_type": "execute_result"
    }
   ],
   "source": [
    "#11.測試詞相似度\n",
    "model.similar_by_word('每天')"
   ]
  },
  {
   "cell_type": "code",
   "execution_count": 45,
   "metadata": {
    "scrolled": true
   },
   "outputs": [
    {
     "name": "stderr",
     "output_type": "stream",
     "text": [
      "<ipython-input-45-dc3cafe384ae>:2: DeprecationWarning: Call to deprecated `similar_by_word` (Method will be removed in 4.0.0, use self.wv.similar_by_word() instead).\n",
      "  model.similar_by_word('一直')\n"
     ]
    },
    {
     "data": {
      "text/plain": [
       "[('繞圈圈', 0.5793926119804382),\n",
       " ('無時無刻', 0.5786219239234924),\n",
       " ('耍賴', 0.5743733644485474),\n",
       " ('討厭鬼', 0.5736790299415588),\n",
       " ('逼出來', 0.5722613334655762),\n",
       " ('使喚', 0.5674321055412292),\n",
       " ('前兆', 0.5667661428451538),\n",
       " ('氣不氣', 0.5665849447250366),\n",
       " ('痛處', 0.565506100654602),\n",
       " ('搞不清', 0.5642781257629395)]"
      ]
     },
     "execution_count": 45,
     "metadata": {},
     "output_type": "execute_result"
    }
   ],
   "source": [
    "#詞相似度\n",
    "model.similar_by_word('一直')"
   ]
  },
  {
   "cell_type": "code",
   "execution_count": 46,
   "metadata": {},
   "outputs": [
    {
     "name": "stderr",
     "output_type": "stream",
     "text": [
      "<ipython-input-46-79b1978f9230>:2: DeprecationWarning: Call to deprecated `similar_by_word` (Method will be removed in 4.0.0, use self.wv.similar_by_word() instead).\n",
      "  model.similar_by_word('總是')\n"
     ]
    },
    {
     "data": {
      "text/plain": [
       "[('認真思考', 0.6209027767181396),\n",
       " ('捉摸不定', 0.6182634830474854),\n",
       " ('自尋煩惱', 0.6158167123794556),\n",
       " ('磨光', 0.6137054562568665),\n",
       " ('太多太', 0.6103761792182922),\n",
       " ('一笑置之', 0.6096199154853821),\n",
       " ('簇擁', 0.6092824935913086),\n",
       " ('種下', 0.6088994145393372),\n",
       " ('混帳', 0.6081991195678711),\n",
       " ('問句', 0.6081584692001343)]"
      ]
     },
     "execution_count": 46,
     "metadata": {},
     "output_type": "execute_result"
    }
   ],
   "source": [
    "#詞相似度\n",
    "model.similar_by_word('總是')"
   ]
  },
  {
   "cell_type": "code",
   "execution_count": 29,
   "metadata": {},
   "outputs": [
    {
     "name": "stderr",
     "output_type": "stream",
     "text": [
      "<ipython-input-29-676cafd5312a>:2: DeprecationWarning: Call to deprecated `similar_by_word` (Method will be removed in 4.0.0, use self.wv.similar_by_word() instead).\n",
      "  model.similar_by_word('我')\n"
     ]
    },
    {
     "data": {
      "text/plain": [
       "[('我自', 0.7645814418792725),\n",
       " ('被寵', 0.7535476684570312),\n",
       " ('你們好', 0.7526658177375793),\n",
       " ('避諱', 0.7524116039276123),\n",
       " ('送光', 0.751254677772522),\n",
       " ('床伴', 0.7510131597518921),\n",
       " ('我他', 0.7506459951400757),\n",
       " ('瞞著', 0.7503862380981445),\n",
       " ('好受', 0.7500801682472229),\n",
       " ('無地自容', 0.7480854988098145)]"
      ]
     },
     "execution_count": 29,
     "metadata": {},
     "output_type": "execute_result"
    }
   ],
   "source": [
    "#詞相似度\n",
    "model.similar_by_word('我')"
   ]
  },
  {
   "cell_type": "code",
   "execution_count": 28,
   "metadata": {},
   "outputs": [
    {
     "name": "stderr",
     "output_type": "stream",
     "text": [
      "<ipython-input-28-826da677650c>:2: DeprecationWarning: Call to deprecated `similar_by_word` (Method will be removed in 4.0.0, use self.wv.similar_by_word() instead).\n",
      "  model.similar_by_word('我們')\n"
     ]
    },
    {
     "data": {
      "text/plain": [
       "[('倆', 0.5566164255142212),\n",
       " ('我倆', 0.5341084003448486),\n",
       " ('分道揚鑣', 0.5319393873214722),\n",
       " ('擦身', 0.5300780534744263),\n",
       " ('不歡而散', 0.5290753245353699),\n",
       " ('就此結束', 0.5288700461387634),\n",
       " ('分分合合', 0.5283598303794861),\n",
       " ('再見面', 0.5270602107048035),\n",
       " ('上話', 0.526908278465271),\n",
       " ('談天', 0.5268542170524597)]"
      ]
     },
     "execution_count": 28,
     "metadata": {},
     "output_type": "execute_result"
    }
   ],
   "source": [
    "#詞相似度\n",
    "model.similar_by_word('我們')"
   ]
  },
  {
   "cell_type": "code",
   "execution_count": 49,
   "metadata": {},
   "outputs": [
    {
     "name": "stderr",
     "output_type": "stream",
     "text": [
      "<ipython-input-49-af7367194441>:2: DeprecationWarning: Call to deprecated `similar_by_word` (Method will be removed in 4.0.0, use self.wv.similar_by_word() instead).\n",
      "  model.similar_by_word('吃藥')\n"
     ]
    },
    {
     "data": {
      "text/plain": [
       "[('停藥', 0.8395404815673828),\n",
       " ('止痛藥', 0.8304799795150757),\n",
       " ('止痛針', 0.8045859932899475),\n",
       " ('拿藥', 0.8018680214881897),\n",
       " ('擦藥', 0.799972653388977),\n",
       " ('腎', 0.7976259589195251),\n",
       " ('中耳炎', 0.7966483235359192),\n",
       " ('開藥', 0.7949013710021973),\n",
       " ('類固醇', 0.7904659509658813),\n",
       " ('安眠藥', 0.7859857082366943)]"
      ]
     },
     "execution_count": 49,
     "metadata": {},
     "output_type": "execute_result"
    }
   ],
   "source": [
    "#詞相似度\n",
    "model.similar_by_word('吃藥')"
   ]
  },
  {
   "cell_type": "code",
   "execution_count": 50,
   "metadata": {
    "scrolled": true
   },
   "outputs": [
    {
     "name": "stderr",
     "output_type": "stream",
     "text": [
      "<ipython-input-50-59b9c94466b4>:2: DeprecationWarning: Call to deprecated `similar_by_word` (Method will be removed in 4.0.0, use self.wv.similar_by_word() instead).\n",
      "  model.similar_by_word('憂鬱')\n"
     ]
    },
    {
     "data": {
      "text/plain": [
       "[('易怒', 0.8091617822647095),\n",
       " ('鬱悶', 0.798853874206543),\n",
       " ('排山倒海', 0.789068877696991),\n",
       " ('焦慮症', 0.7777386903762817),\n",
       " ('頭疼', 0.7764595150947571),\n",
       " ('沈重', 0.7755311131477356),\n",
       " ('大起大落', 0.767436683177948),\n",
       " ('週期性', 0.76662278175354),\n",
       " ('心悸', 0.765610933303833),\n",
       " ('孱弱', 0.764356255531311)]"
      ]
     },
     "execution_count": 50,
     "metadata": {},
     "output_type": "execute_result"
    }
   ],
   "source": [
    "#詞相似度\n",
    "model.similar_by_word('憂鬱')"
   ]
  },
  {
   "cell_type": "code",
   "execution_count": 48,
   "metadata": {},
   "outputs": [
    {
     "name": "stderr",
     "output_type": "stream",
     "text": [
      "<ipython-input-48-2df61b77d910>:2: DeprecationWarning: Call to deprecated `similar_by_word` (Method will be removed in 4.0.0, use self.wv.similar_by_word() instead).\n",
      "  model.similar_by_word('真的')\n"
     ]
    },
    {
     "data": {
      "text/plain": [
       "[('怕得要命', 0.705108642578125),\n",
       " ('對號入座', 0.7047827243804932),\n",
       " ('小玉', 0.7005411982536316),\n",
       " ('翻舊帳', 0.697583794593811),\n",
       " ('著看', 0.696243405342102),\n",
       " ('打趣', 0.6948140859603882),\n",
       " ('賭爛', 0.6941170692443848),\n",
       " ('夭壽', 0.6932826638221741),\n",
       " ('真要', 0.6919928789138794),\n",
       " ('自求多福', 0.6915366053581238)]"
      ]
     },
     "execution_count": 48,
     "metadata": {},
     "output_type": "execute_result"
    }
   ],
   "source": [
    "#詞相似度\n",
    "model.similar_by_word('真的')"
   ]
  },
  {
   "cell_type": "code",
   "execution_count": 15,
   "metadata": {
    "scrolled": true
   },
   "outputs": [
    {
     "name": "stderr",
     "output_type": "stream",
     "text": [
      "<ipython-input-15-1820bb7f78ad>:2: DeprecationWarning: Call to deprecated `similar_by_word` (Method will be removed in 4.0.0, use self.wv.similar_by_word() instead).\n",
      "  model.similar_by_word('想')\n"
     ]
    },
    {
     "data": {
      "text/plain": [
       "[('床伴', 0.6878759860992432),\n",
       " ('一大半', 0.6875162720680237),\n",
       " ('打嘴巴', 0.6872358322143555),\n",
       " ('宣泄', 0.685401201248169),\n",
       " ('安份', 0.6826120615005493),\n",
       " ('我什', 0.6822878122329712),\n",
       " ('看開一點', 0.6817077398300171),\n",
       " ('多嘴', 0.6812175512313843),\n",
       " ('了能', 0.680487871170044),\n",
       " ('把拔', 0.6802255511283875)]"
      ]
     },
     "execution_count": 15,
     "metadata": {},
     "output_type": "execute_result"
    }
   ],
   "source": [
    "#詞相似度\n",
    "model.similar_by_word('想')"
   ]
  },
  {
   "cell_type": "code",
   "execution_count": 16,
   "metadata": {},
   "outputs": [
    {
     "name": "stderr",
     "output_type": "stream",
     "text": [
      "<ipython-input-16-e1c9cc02ce42>:2: DeprecationWarning: Call to deprecated `similar_by_word` (Method will be removed in 4.0.0, use self.wv.similar_by_word() instead).\n",
      "  model.similar_by_word('說')\n"
     ]
    },
    {
     "data": {
      "text/plain": [
       "[('超沒', 0.7028159499168396),\n",
       " ('每句', 0.6993929147720337),\n",
       " ('多嘴', 0.6971871852874756),\n",
       " ('兩三句', 0.6940829753875732),\n",
       " ('還用', 0.6927374601364136),\n",
       " ('第二句', 0.6920994520187378),\n",
       " ('委婉', 0.6907167434692383),\n",
       " ('講講', 0.6892420053482056),\n",
       " ('兩句話', 0.688892126083374),\n",
       " ('哪句', 0.6886162757873535)]"
      ]
     },
     "execution_count": 16,
     "metadata": {},
     "output_type": "execute_result"
    }
   ],
   "source": [
    "#詞相似度\n",
    "model.similar_by_word('說')"
   ]
  },
  {
   "cell_type": "code",
   "execution_count": 30,
   "metadata": {
    "scrolled": true
   },
   "outputs": [
    {
     "name": "stderr",
     "output_type": "stream",
     "text": [
      "<ipython-input-30-957f3b453c7e>:2: DeprecationWarning: Call to deprecated `similar_by_word` (Method will be removed in 4.0.0, use self.wv.similar_by_word() instead).\n",
      "  model.similar_by_word('工作')\n"
     ]
    },
    {
     "data": {
      "text/plain": [
       "[('職場', 0.6395502090454102),\n",
       " ('薪水', 0.6197562217712402),\n",
       " ('打工', 0.6065786480903625),\n",
       " ('應徵', 0.6059691309928894),\n",
       " ('兼職', 0.6041263341903687),\n",
       " ('服務業', 0.596893846988678),\n",
       " ('生管', 0.5964556336402893),\n",
       " ('坦白說', 0.5935444235801697),\n",
       " ('統包', 0.5910071730613708),\n",
       " ('第一份', 0.5893994569778442)]"
      ]
     },
     "execution_count": 30,
     "metadata": {},
     "output_type": "execute_result"
    }
   ],
   "source": [
    "#詞相似度\n",
    "model.similar_by_word('工作')"
   ]
  },
  {
   "cell_type": "code",
   "execution_count": 32,
   "metadata": {},
   "outputs": [
    {
     "name": "stderr",
     "output_type": "stream",
     "text": [
      "<ipython-input-32-c13e5a3d8990>:2: DeprecationWarning: Call to deprecated `similar_by_word` (Method will be removed in 4.0.0, use self.wv.similar_by_word() instead).\n",
      "  model.similar_by_word('已經')\n"
     ]
    },
    {
     "data": {
      "text/plain": [
       "[('書蟲', 0.5230495929718018),\n",
       " ('構', 0.5222415328025818),\n",
       " ('腦袋瓜', 0.5210082530975342),\n",
       " ('愈來愈好', 0.518495500087738),\n",
       " ('_____', 0.5178402066230774),\n",
       " ('千面人', 0.5151078701019287),\n",
       " ('始料未及', 0.5147507190704346),\n",
       " ('魔咒', 0.5142943859100342),\n",
       " ('另一人', 0.5136208534240723),\n",
       " ('澈底', 0.5111826658248901)]"
      ]
     },
     "execution_count": 32,
     "metadata": {},
     "output_type": "execute_result"
    }
   ],
   "source": [
    "#詞相似度\n",
    "model.similar_by_word('已經')"
   ]
  },
  {
   "cell_type": "code",
   "execution_count": 40,
   "metadata": {},
   "outputs": [
    {
     "name": "stderr",
     "output_type": "stream",
     "text": [
      "<ipython-input-40-5a7da1631745>:2: DeprecationWarning: Call to deprecated `similar_by_word` (Method will be removed in 4.0.0, use self.wv.similar_by_word() instead).\n",
      "  model.similar_by_word('根本')\n"
     ]
    },
    {
     "data": {
      "text/plain": [
       "[('硬要', 0.5969036817550659),\n",
       " ('兩回事', 0.5935841202735901),\n",
       " ('媽會', 0.5888224244117737),\n",
       " ('不差', 0.5870436429977417),\n",
       " ('打探', 0.5856208801269531),\n",
       " ('完完全全', 0.5837949514389038),\n",
       " ('連跟', 0.5819148421287537),\n",
       " ('死死的', 0.5799906253814697),\n",
       " ('翻舊帳', 0.579847514629364),\n",
       " ('第二點', 0.578641414642334)]"
      ]
     },
     "execution_count": 40,
     "metadata": {},
     "output_type": "execute_result"
    }
   ],
   "source": [
    "#詞相似度\n",
    "model.similar_by_word('根本')"
   ]
  },
  {
   "cell_type": "code",
   "execution_count": 43,
   "metadata": {},
   "outputs": [
    {
     "name": "stderr",
     "output_type": "stream",
     "text": [
      "<ipython-input-43-1129d572c950>:2: DeprecationWarning: Call to deprecated `similar_by_word` (Method will be removed in 4.0.0, use self.wv.similar_by_word() instead).\n",
      "  model.similar_by_word('吃')\n"
     ]
    },
    {
     "data": {
      "text/plain": [
       "[('不吃', 0.7688150405883789),\n",
       " ('飯', 0.6978113651275635),\n",
       " ('火鍋', 0.6910183429718018),\n",
       " ('牛排', 0.6874236464500427),\n",
       " ('青菜', 0.6854840517044067),\n",
       " ('好吃', 0.6800402402877808),\n",
       " ('生魚片', 0.678730845451355),\n",
       " ('漢堡', 0.6744285821914673),\n",
       " ('雞塊', 0.6730027794837952),\n",
       " ('水餃', 0.6709229946136475)]"
      ]
     },
     "execution_count": 43,
     "metadata": {},
     "output_type": "execute_result"
    }
   ],
   "source": [
    "#詞相似度\n",
    "model.similar_by_word('吃')"
   ]
  },
  {
   "cell_type": "code",
   "execution_count": 45,
   "metadata": {},
   "outputs": [
    {
     "name": "stderr",
     "output_type": "stream",
     "text": [
      "<ipython-input-45-086e77413161>:2: DeprecationWarning: Call to deprecated `similar_by_word` (Method will be removed in 4.0.0, use self.wv.similar_by_word() instead).\n",
      "  model.similar_by_word('無法')\n"
     ]
    },
    {
     "data": {
      "text/plain": [
       "[('難以', 0.5840492248535156),\n",
       " ('辦法', 0.5727012753486633),\n",
       " ('幾近', 0.533754825592041),\n",
       " ('動彈', 0.5314500331878662),\n",
       " ('黑與白', 0.5178382992744446),\n",
       " ('很難', 0.5153633952140808),\n",
       " ('兩端', 0.5150221586227417),\n",
       " ('出此下策', 0.5148170590400696),\n",
       " ('別無選擇', 0.5138683915138245),\n",
       " ('切斷', 0.5135929584503174)]"
      ]
     },
     "execution_count": 45,
     "metadata": {},
     "output_type": "execute_result"
    }
   ],
   "source": [
    "#詞相似度\n",
    "model.similar_by_word('無法')"
   ]
  },
  {
   "cell_type": "code",
   "execution_count": 46,
   "metadata": {},
   "outputs": [
    {
     "name": "stderr",
     "output_type": "stream",
     "text": [
      "<ipython-input-46-370866b49f93>:2: DeprecationWarning: Call to deprecated `similar_by_word` (Method will be removed in 4.0.0, use self.wv.similar_by_word() instead).\n",
      "  model.similar_by_word('不想')\n"
     ]
    },
    {
     "data": {
      "text/plain": [
       "[('理人', 0.6152536869049072),\n",
       " ('部會', 0.5851227045059204),\n",
       " ('不要緊', 0.5810213088989258),\n",
       " ('一走了之', 0.5809998512268066),\n",
       " ('駝鳥', 0.5807380080223083),\n",
       " ('作愛', 0.5797613859176636),\n",
       " ('透漏', 0.5721461772918701),\n",
       " ('撕破臉', 0.5719670057296753),\n",
       " ('不誠實', 0.5698884129524231),\n",
       " ('湊和', 0.5694880485534668)]"
      ]
     },
     "execution_count": 46,
     "metadata": {},
     "output_type": "execute_result"
    }
   ],
   "source": [
    "#詞相似度\n",
    "model.similar_by_word('不想')"
   ]
  },
  {
   "cell_type": "code",
   "execution_count": 47,
   "metadata": {},
   "outputs": [
    {
     "name": "stderr",
     "output_type": "stream",
     "text": [
      "<ipython-input-47-5ff893478067>:2: DeprecationWarning: Call to deprecated `similar_by_word` (Method will be removed in 4.0.0, use self.wv.similar_by_word() instead).\n",
      "  model.similar_by_word('身體')\n"
     ]
    },
    {
     "data": {
      "text/plain": [
       "[('變差', 0.6893565654754639),\n",
       " ('調養', 0.6531015634536743),\n",
       " ('糖尿病', 0.6482625007629395),\n",
       " ('強壯', 0.6443980932235718),\n",
       " ('休養', 0.6407372951507568),\n",
       " ('不適', 0.6363716125488281),\n",
       " ('體質', 0.6350127458572388),\n",
       " ('代謝', 0.631886899471283),\n",
       " ('乾嘔', 0.6309178471565247),\n",
       " ('胃腸', 0.6303087472915649)]"
      ]
     },
     "execution_count": 47,
     "metadata": {},
     "output_type": "execute_result"
    }
   ],
   "source": [
    "#詞相似度\n",
    "model.similar_by_word('身體')"
   ]
  },
  {
   "cell_type": "code",
   "execution_count": 53,
   "metadata": {},
   "outputs": [
    {
     "name": "stderr",
     "output_type": "stream",
     "text": [
      "<ipython-input-53-18781f1ded30>:2: DeprecationWarning: Call to deprecated `similar_by_word` (Method will be removed in 4.0.0, use self.wv.similar_by_word() instead).\n",
      "  model.similar_by_word('抑鬱')\n"
     ]
    },
    {
     "data": {
      "text/plain": [
       "[('刻劃', 0.9095689058303833),\n",
       " ('虛華', 0.9095242023468018),\n",
       " ('由衷感謝', 0.9085531234741211),\n",
       " ('形體', 0.9070810079574585),\n",
       " ('虛榮心', 0.9069384932518005),\n",
       " ('活過', 0.9061567783355713),\n",
       " ('完滿', 0.9050050973892212),\n",
       " ('地活', 0.9038348197937012),\n",
       " ('情慾', 0.9015408754348755),\n",
       " ('一道道', 0.9014558792114258)]"
      ]
     },
     "execution_count": 53,
     "metadata": {},
     "output_type": "execute_result"
    }
   ],
   "source": [
    "#詞相似度\n",
    "model.similar_by_word('抑鬱')"
   ]
  },
  {
   "cell_type": "code",
   "execution_count": null,
   "metadata": {},
   "outputs": [],
   "source": []
  }
 ],
 "metadata": {
  "kernelspec": {
   "display_name": "Python 3",
   "language": "python",
   "name": "python3"
  },
  "language_info": {
   "codemirror_mode": {
    "name": "ipython",
    "version": 3
   },
   "file_extension": ".py",
   "mimetype": "text/x-python",
   "name": "python",
   "nbconvert_exporter": "python",
   "pygments_lexer": "ipython3",
   "version": "3.8.5"
  }
 },
 "nbformat": 4,
 "nbformat_minor": 4
}
