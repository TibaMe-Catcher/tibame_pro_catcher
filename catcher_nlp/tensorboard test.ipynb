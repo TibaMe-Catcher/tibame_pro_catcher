{
 "cells": [
  {
   "cell_type": "code",
   "execution_count": 1,
   "metadata": {},
   "outputs": [
    {
     "name": "stdout",
     "output_type": "stream",
     "text": [
      "Collecting gensim==3.8.1\n",
      "  Downloading gensim-3.8.1-cp36-cp36m-win_amd64.whl (24.2 MB)\n",
      "Requirement already satisfied: six>=1.5.0 in c:\\users\\leavi\\anaconda3\\envs\\tensorboard\\lib\\site-packages (from gensim==3.8.1) (1.15.0)\n",
      "Collecting numpy>=1.11.3\n",
      "  Downloading numpy-1.19.4-cp36-cp36m-win_amd64.whl (12.9 MB)\n",
      "Collecting scipy>=0.18.1\n",
      "  Using cached scipy-1.5.4-cp36-cp36m-win_amd64.whl (31.2 MB)\n",
      "Collecting smart-open>=1.8.1\n",
      "  Using cached smart_open-4.0.1-py3-none-any.whl\n",
      "Installing collected packages: numpy, smart-open, scipy, gensim\n",
      "Successfully installed gensim-3.8.1 numpy-1.19.4 scipy-1.5.4 smart-open-4.0.1\n",
      "Collecting tensorboard==1.15.0\n",
      "  Using cached tensorboard-1.15.0-py3-none-any.whl (3.8 MB)\n",
      "Requirement already satisfied: numpy>=1.12.0 in c:\\users\\leavi\\anaconda3\\envs\\tensorboard\\lib\\site-packages (from tensorboard==1.15.0) (1.19.4)\n",
      "Requirement already satisfied: six>=1.10.0 in c:\\users\\leavi\\anaconda3\\envs\\tensorboard\\lib\\site-packages (from tensorboard==1.15.0) (1.15.0)\n",
      "Requirement already satisfied: setuptools>=41.0.0 in c:\\users\\leavi\\anaconda3\\envs\\tensorboard\\lib\\site-packages (from tensorboard==1.15.0) (51.0.0.post20201207)\n",
      "Requirement already satisfied: wheel>=0.26 in c:\\users\\leavi\\anaconda3\\envs\\tensorboard\\lib\\site-packages (from tensorboard==1.15.0) (0.36.1)\n",
      "Collecting absl-py>=0.4\n",
      "  Using cached absl_py-0.11.0-py3-none-any.whl (127 kB)\n",
      "Requirement already satisfied: six>=1.10.0 in c:\\users\\leavi\\anaconda3\\envs\\tensorboard\\lib\\site-packages (from tensorboard==1.15.0) (1.15.0)\n",
      "Collecting grpcio>=1.6.3\n",
      "  Using cached grpcio-1.34.0-cp36-cp36m-win_amd64.whl (2.9 MB)\n",
      "Requirement already satisfied: six>=1.10.0 in c:\\users\\leavi\\anaconda3\\envs\\tensorboard\\lib\\site-packages (from tensorboard==1.15.0) (1.15.0)\n",
      "Collecting markdown>=2.6.8\n",
      "  Using cached Markdown-3.3.3-py3-none-any.whl (96 kB)\n",
      "Requirement already satisfied: importlib-metadata in c:\\users\\leavi\\anaconda3\\envs\\tensorboard\\lib\\site-packages (from markdown>=2.6.8->tensorboard==1.15.0) (2.0.0)\n",
      "Requirement already satisfied: zipp>=0.5 in c:\\users\\leavi\\anaconda3\\envs\\tensorboard\\lib\\site-packages (from importlib-metadata->markdown>=2.6.8->tensorboard==1.15.0) (3.4.0)\n",
      "Collecting protobuf>=3.6.0\n",
      "  Using cached protobuf-3.14.0-cp36-cp36m-win_amd64.whl (904 kB)\n",
      "Requirement already satisfied: six>=1.10.0 in c:\\users\\leavi\\anaconda3\\envs\\tensorboard\\lib\\site-packages (from tensorboard==1.15.0) (1.15.0)\n",
      "Collecting werkzeug>=0.11.15\n",
      "  Using cached Werkzeug-1.0.1-py2.py3-none-any.whl (298 kB)\n",
      "Installing collected packages: werkzeug, protobuf, markdown, grpcio, absl-py, tensorboard\n",
      "Successfully installed absl-py-0.11.0 grpcio-1.34.0 markdown-3.3.3 protobuf-3.14.0 tensorboard-1.15.0 werkzeug-1.0.1\n",
      "Collecting tensorflow==1.15.0\n",
      "  Using cached tensorflow-1.15.0-cp36-cp36m-win_amd64.whl (295.1 MB)\n",
      "Requirement already satisfied: six>=1.10.0 in c:\\users\\leavi\\anaconda3\\envs\\tensorboard\\lib\\site-packages (from tensorflow==1.15.0) (1.15.0)\n",
      "Requirement already satisfied: absl-py>=0.7.0 in c:\\users\\leavi\\anaconda3\\envs\\tensorboard\\lib\\site-packages (from tensorflow==1.15.0) (0.11.0)\n",
      "Requirement already satisfied: numpy<2.0,>=1.16.0 in c:\\users\\leavi\\anaconda3\\envs\\tensorboard\\lib\\site-packages (from tensorflow==1.15.0) (1.19.4)\n",
      "Requirement already satisfied: wheel>=0.26 in c:\\users\\leavi\\anaconda3\\envs\\tensorboard\\lib\\site-packages (from tensorflow==1.15.0) (0.36.1)\n",
      "Requirement already satisfied: tensorboard<1.16.0,>=1.15.0 in c:\\users\\leavi\\anaconda3\\envs\\tensorboard\\lib\\site-packages (from tensorflow==1.15.0) (1.15.0)\n",
      "Requirement already satisfied: protobuf>=3.6.1 in c:\\users\\leavi\\anaconda3\\envs\\tensorboard\\lib\\site-packages (from tensorflow==1.15.0) (3.14.0)\n",
      "Requirement already satisfied: grpcio>=1.8.6 in c:\\users\\leavi\\anaconda3\\envs\\tensorboard\\lib\\site-packages (from tensorflow==1.15.0) (1.34.0)\n",
      "Requirement already satisfied: six>=1.10.0 in c:\\users\\leavi\\anaconda3\\envs\\tensorboard\\lib\\site-packages (from tensorflow==1.15.0) (1.15.0)\n",
      "Collecting astor>=0.6.0\n",
      "  Using cached astor-0.8.1-py2.py3-none-any.whl (27 kB)\n",
      "Collecting gast==0.2.2\n",
      "  Using cached gast-0.2.2-py3-none-any.whl\n",
      "Collecting google-pasta>=0.1.6\n",
      "  Using cached google_pasta-0.2.0-py3-none-any.whl (57 kB)\n",
      "Requirement already satisfied: six>=1.10.0 in c:\\users\\leavi\\anaconda3\\envs\\tensorboard\\lib\\site-packages (from tensorflow==1.15.0) (1.15.0)\n",
      "Requirement already satisfied: six>=1.10.0 in c:\\users\\leavi\\anaconda3\\envs\\tensorboard\\lib\\site-packages (from tensorflow==1.15.0) (1.15.0)\n",
      "Collecting keras-applications>=1.0.8\n",
      "  Using cached Keras_Applications-1.0.8-py3-none-any.whl (50 kB)\n",
      "Requirement already satisfied: numpy<2.0,>=1.16.0 in c:\\users\\leavi\\anaconda3\\envs\\tensorboard\\lib\\site-packages (from tensorflow==1.15.0) (1.19.4)\n",
      "Collecting h5py\n",
      "  Downloading h5py-3.1.0-cp36-cp36m-win_amd64.whl (2.7 MB)\n",
      "Requirement already satisfied: numpy<2.0,>=1.16.0 in c:\\users\\leavi\\anaconda3\\envs\\tensorboard\\lib\\site-packages (from tensorflow==1.15.0) (1.19.4)\n",
      "Collecting cached-property\n",
      "  Downloading cached_property-1.5.2-py2.py3-none-any.whl (7.6 kB)\n",
      "Collecting keras-preprocessing>=1.0.5\n",
      "  Using cached Keras_Preprocessing-1.1.2-py2.py3-none-any.whl (42 kB)\n",
      "Requirement already satisfied: numpy<2.0,>=1.16.0 in c:\\users\\leavi\\anaconda3\\envs\\tensorboard\\lib\\site-packages (from tensorflow==1.15.0) (1.19.4)\n",
      "Requirement already satisfied: six>=1.10.0 in c:\\users\\leavi\\anaconda3\\envs\\tensorboard\\lib\\site-packages (from tensorflow==1.15.0) (1.15.0)\n",
      "Collecting opt-einsum>=2.3.2\n",
      "  Using cached opt_einsum-3.3.0-py3-none-any.whl (65 kB)\n",
      "Requirement already satisfied: numpy<2.0,>=1.16.0 in c:\\users\\leavi\\anaconda3\\envs\\tensorboard\\lib\\site-packages (from tensorflow==1.15.0) (1.19.4)\n",
      "Requirement already satisfied: six>=1.10.0 in c:\\users\\leavi\\anaconda3\\envs\\tensorboard\\lib\\site-packages (from tensorflow==1.15.0) (1.15.0)\n",
      "Requirement already satisfied: markdown>=2.6.8 in c:\\users\\leavi\\anaconda3\\envs\\tensorboard\\lib\\site-packages (from tensorboard<1.16.0,>=1.15.0->tensorflow==1.15.0) (3.3.3)\n",
      "Requirement already satisfied: six>=1.10.0 in c:\\users\\leavi\\anaconda3\\envs\\tensorboard\\lib\\site-packages (from tensorflow==1.15.0) (1.15.0)\n",
      "Requirement already satisfied: grpcio>=1.8.6 in c:\\users\\leavi\\anaconda3\\envs\\tensorboard\\lib\\site-packages (from tensorflow==1.15.0) (1.34.0)\n",
      "Requirement already satisfied: protobuf>=3.6.1 in c:\\users\\leavi\\anaconda3\\envs\\tensorboard\\lib\\site-packages (from tensorflow==1.15.0) (3.14.0)\n",
      "Requirement already satisfied: wheel>=0.26 in c:\\users\\leavi\\anaconda3\\envs\\tensorboard\\lib\\site-packages (from tensorflow==1.15.0) (0.36.1)\n",
      "Requirement already satisfied: absl-py>=0.7.0 in c:\\users\\leavi\\anaconda3\\envs\\tensorboard\\lib\\site-packages (from tensorflow==1.15.0) (0.11.0)\n",
      "Requirement already satisfied: werkzeug>=0.11.15 in c:\\users\\leavi\\anaconda3\\envs\\tensorboard\\lib\\site-packages (from tensorboard<1.16.0,>=1.15.0->tensorflow==1.15.0) (1.0.1)\n",
      "Requirement already satisfied: numpy<2.0,>=1.16.0 in c:\\users\\leavi\\anaconda3\\envs\\tensorboard\\lib\\site-packages (from tensorflow==1.15.0) (1.19.4)\n",
      "Requirement already satisfied: setuptools>=41.0.0 in c:\\users\\leavi\\anaconda3\\envs\\tensorboard\\lib\\site-packages (from tensorboard<1.16.0,>=1.15.0->tensorflow==1.15.0) (51.0.0.post20201207)\n",
      "Requirement already satisfied: importlib-metadata in c:\\users\\leavi\\anaconda3\\envs\\tensorboard\\lib\\site-packages (from markdown>=2.6.8->tensorboard<1.16.0,>=1.15.0->tensorflow==1.15.0) (2.0.0)\n",
      "Requirement already satisfied: zipp>=0.5 in c:\\users\\leavi\\anaconda3\\envs\\tensorboard\\lib\\site-packages (from importlib-metadata->markdown>=2.6.8->tensorboard<1.16.0,>=1.15.0->tensorflow==1.15.0) (3.4.0)\n",
      "Collecting tensorflow-estimator==1.15.1\n",
      "  Using cached tensorflow_estimator-1.15.1-py2.py3-none-any.whl (503 kB)\n",
      "Collecting termcolor>=1.1.0\n",
      "  Using cached termcolor-1.1.0-py3-none-any.whl\n",
      "Collecting wrapt>=1.11.1\n",
      "  Using cached wrapt-1.12.1-py3-none-any.whl\n",
      "Installing collected packages: cached-property, h5py, wrapt, termcolor, tensorflow-estimator, opt-einsum, keras-preprocessing, keras-applications, google-pasta, gast, astor, tensorflow\n",
      "Successfully installed astor-0.8.1 cached-property-1.5.2 gast-0.2.2 google-pasta-0.2.0 h5py-3.1.0 keras-applications-1.0.8 keras-preprocessing-1.1.2 opt-einsum-3.3.0 tensorflow-1.15.0 tensorflow-estimator-1.15.1 termcolor-1.1.0 wrapt-1.12.1\n"
     ]
    },
    {
     "name": "stdout",
     "output_type": "stream",
     "text": [
      "Requirement already satisfied: tensorflow-estimator==1.15.1 in c:\\users\\leavi\\anaconda3\\envs\\tensorboard\\lib\\site-packages (1.15.1)\n"
     ]
    }
   ],
   "source": [
    "!pip install gensim==3.8.1\n",
    "!pip install tensorboard==1.15.0\n",
    "!pip install tensorflow==1.15.0\n",
    "!pip install tensorflow-estimator==1.15.1\n"
   ]
  },
  {
   "cell_type": "code",
   "execution_count": null,
   "metadata": {},
   "outputs": [],
   "source": []
  },
  {
   "cell_type": "code",
   "execution_count": 14,
   "metadata": {},
   "outputs": [],
   "source": [
    "import numpy as np\n",
    "import tensorflow as tf\n",
    "import os\n",
    "from gensim.models.word2vec import Word2Vec\n",
    "from tensorflow.contrib.tensorboard.plugins import projector\n",
    "import subprocess"
   ]
  },
  {
   "cell_type": "code",
   "execution_count": 15,
   "metadata": {},
   "outputs": [],
   "source": [
    "log_dir = './model/embedding_log_demo'\n",
    "model_dir = './model'\n",
    "\n",
    "# 若路徑都不存在可以解開註解創立\n",
    "if not os.path.exists(log_dir):\n",
    "    os.mkdir(log_dir)\n",
    "    os.mkdir(model_dir)"
   ]
  },
  {
   "cell_type": "code",
   "execution_count": 16,
   "metadata": {},
   "outputs": [],
   "source": [
    "metadata_name = 'metadata.tsv'\n",
    "\n",
    "# load model \n",
    "model_file = \"./model/word2vec.model\"\n",
    "word2vec = Word2Vec.load(model_file)"
   ]
  },
  {
   "cell_type": "code",
   "execution_count": 17,
   "metadata": {},
   "outputs": [
    {
     "name": "stderr",
     "output_type": "stream",
     "text": [
      "C:\\Users\\leavi\\anaconda3\\envs\\tensorboard\\lib\\site-packages\\ipykernel_launcher.py:4: DeprecationWarning: Call to deprecated `__getitem__` (Method will be removed in 4.0.0, use self.wv.__getitem__() instead).\n",
      "  after removing the cwd from sys.path.\n"
     ]
    }
   ],
   "source": [
    "# create a list of vectors\n",
    "embedding = np.empty((len(word2vec.wv.vocab.keys()), word2vec.vector_size), dtype=np.float32)\n",
    "for i, word in enumerate(word2vec.wv.vocab.keys()):\n",
    "    embedding[i] = word2vec[word]\n",
    "\n",
    "# write labels \n",
    "with open(os.path.join(log_dir, metadata_name), 'w',encoding=\"utf-8\") as f:\n",
    "    for word in word2vec.wv.vocab.keys():\n",
    "        f.write(word + '\\n')"
   ]
  },
  {
   "cell_type": "code",
   "execution_count": 18,
   "metadata": {},
   "outputs": [
    {
     "name": "stderr",
     "output_type": "stream",
     "text": [
      "C:\\Users\\leavi\\anaconda3\\envs\\tensorboard\\lib\\site-packages\\tensorflow_core\\python\\client\\session.py:1750: UserWarning: An interactive session is already active. This can cause out-of-memory errors in some cases. You must explicitly call `InteractiveSession.close()` to release resources held by the other session(s).\n",
      "  warnings.warn('An interactive session is already active. This can '\n"
     ]
    }
   ],
   "source": [
    "# setup a TensorFlow session\n",
    "tf.reset_default_graph()\n",
    "sess = tf.InteractiveSession()\n",
    "X = tf.Variable([0.0], name='embedding')\n",
    "place = tf.placeholder(tf.float32, shape=embedding.shape)\n",
    "set_x = tf.assign(X, place, validate_shape=False)\n",
    "sess.run(tf.global_variables_initializer())\n",
    "sess.run(set_x, feed_dict={place: embedding})\n",
    "\n",
    "# create a TensorFlow summary writer\n",
    "summary_writer = tf.summary.FileWriter(log_dir, sess.graph)\n",
    "config = projector.ProjectorConfig()\n",
    "embedding_conf = config.embeddings.add()\n",
    "embedding_conf.tensor_name = 'embedding:0'\n",
    "embedding_conf.metadata_path = os.path.join(log_dir, metadata_name)\n",
    "projector.visualize_embeddings(summary_writer, config)"
   ]
  },
  {
   "cell_type": "code",
   "execution_count": 19,
   "metadata": {},
   "outputs": [
    {
     "data": {
      "text/plain": [
       "'./model/embedding_log_demo\\\\model.ckpt'"
      ]
     },
     "execution_count": 19,
     "metadata": {},
     "output_type": "execute_result"
    }
   ],
   "source": [
    "# save the model\n",
    "saver = tf.train.Saver()\n",
    "saver.save(sess, os.path.join(log_dir, \"model.ckpt\"))"
   ]
  },
  {
   "cell_type": "code",
   "execution_count": 25,
   "metadata": {},
   "outputs": [
    {
     "ename": "SyntaxError",
     "evalue": "can't assign to operator (<ipython-input-25-6aa6757e42a5>, line 1)",
     "output_type": "error",
     "traceback": [
      "\u001b[1;36m  File \u001b[1;32m\"<ipython-input-25-6aa6757e42a5>\"\u001b[1;36m, line \u001b[1;32m1\u001b[0m\n\u001b[1;33m    tensorboard --logdir='./model/embedding_log_demo/'\u001b[0m\n\u001b[1;37m                                                      ^\u001b[0m\n\u001b[1;31mSyntaxError\u001b[0m\u001b[1;31m:\u001b[0m can't assign to operator\n"
     ]
    }
   ],
   "source": [
    "tensorboard --logdir='C:/Users/leavi/Desktop/catcher_nlp/model/embedding_log_demo/'"
   ]
  },
  {
   "cell_type": "code",
   "execution_count": 20,
   "metadata": {},
   "outputs": [
    {
     "name": "stdout",
     "output_type": "stream",
     "text": [
      "1.15.0\n",
      "['C:\\\\Users\\\\leavi\\\\anaconda3\\\\envs\\\\tensorboard\\\\lib\\\\site-packages\\\\tensorflow_core\\\\python\\\\keras\\\\api\\\\_v1', 'C:\\\\Users\\\\leavi\\\\anaconda3\\\\envs\\\\tensorboard\\\\lib\\\\site-packages\\\\tensorflow_estimator\\\\python\\\\estimator\\\\api\\\\_v1', 'C:\\\\Users\\\\leavi\\\\anaconda3\\\\envs\\\\tensorboard\\\\lib\\\\site-packages\\\\tensorflow_core', 'C:\\\\Users\\\\leavi\\\\anaconda3\\\\envs\\\\tensorboard\\\\lib\\\\site-packages\\\\tensorflow_core\\\\_api\\\\v1']\n",
      "[name: \"/device:CPU:0\"\n",
      "device_type: \"CPU\"\n",
      "memory_limit: 268435456\n",
      "locality {\n",
      "}\n",
      "incarnation: 250443925583571748\n",
      "]\n"
     ]
    }
   ],
   "source": [
    "import tensorflow as tf\n",
    "print(tf.__version__)\n",
    "#查询tensorflow安装路径为:\n",
    "print( tf.__path__ )\n",
    "\n",
    "import os\n",
    "from tensorflow.python.client import device_lib\n",
    "os.environ[\"TF_CPP_MIN_LOG_LEVEL\"] = \"99\"\n",
    "\n",
    "if __name__ == \"__main__\":\n",
    "    print(device_lib.list_local_devices())"
   ]
  },
  {
   "cell_type": "code",
   "execution_count": 23,
   "metadata": {},
   "outputs": [
    {
     "ename": "SyntaxError",
     "evalue": "invalid syntax (<ipython-input-23-54ea495efb29>, line 1)",
     "output_type": "error",
     "traceback": [
      "\u001b[1;36m  File \u001b[1;32m\"<ipython-input-23-54ea495efb29>\"\u001b[1;36m, line \u001b[1;32m1\u001b[0m\n\u001b[1;33m    [name:\"/device:CPU:0\"\u001b[0m\n\u001b[1;37m         ^\u001b[0m\n\u001b[1;31mSyntaxError\u001b[0m\u001b[1;31m:\u001b[0m invalid syntax\n"
     ]
    }
   ],
   "source": []
  },
  {
   "cell_type": "code",
   "execution_count": null,
   "metadata": {},
   "outputs": [],
   "source": []
  }
 ],
 "metadata": {
  "kernelspec": {
   "display_name": "Python 3",
   "language": "python",
   "name": "python3"
  },
  "language_info": {
   "codemirror_mode": {
    "name": "ipython",
    "version": 3
   },
   "file_extension": ".py",
   "mimetype": "text/x-python",
   "name": "python",
   "nbconvert_exporter": "python",
   "pygments_lexer": "ipython3",
   "version": "3.6.12"
  }
 },
 "nbformat": 4,
 "nbformat_minor": 4
}
